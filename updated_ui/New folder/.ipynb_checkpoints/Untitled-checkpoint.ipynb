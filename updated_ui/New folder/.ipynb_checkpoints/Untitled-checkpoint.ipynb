{
 "cells": [
  {
   "cell_type": "code",
   "execution_count": 1,
   "id": "2648d45d",
   "metadata": {},
   "outputs": [],
   "source": [
    "# !pip install urllib2"
   ]
  },
  {
   "cell_type": "code",
   "execution_count": 36,
   "id": "995dcc4d",
   "metadata": {
    "scrolled": true
   },
   "outputs": [
    {
     "name": "stdout",
     "output_type": "stream",
     "text": [
      "['Kingdom']\n",
      "['Phylum']\n",
      "['Class']\n",
      "['Order']\n",
      "['Family']\n",
      "['Genus']\n",
      "['SPECIES']\n",
      "\n",
      "['Animalia']\n",
      "['Chordata']\n",
      "['Aves']\n",
      "['Anseriformes']\n",
      "['Anatidae']\n",
      "['Somateria']\n",
      "\n",
      "Appearance The king eider is a large sea duck, measuring 50–70 cm (20–28 in) in length with a wingspan of 86–102 cm (34–40 in). Males are, on average, heavier than females, with a mean weight of 1.668 kg (3.68 lb) for males and 1.567 kg (3.45 lb) for females. An individual bird's mass can vary considerably from season to season—from as little as 0.9 kg (2.0 lb) to as much as 2.2 kg (4.9 lb). Like all eiders, the species is sexually dimorphic; the male is slightly larger and, in breeding plumage, much more colourful than the female. The male is unmistakable with its mostly black body, buff-tinged white breast and multicoloured head. The head, nape and neck are a pale bluish grey. The cheek is pale green. The bill, separated from the face by a thin black line, is red with a white nail and a large, distinctive yellow knob. Some tertials are curved up and form \"spurs\" along the back. The female (occasionally colloquially referred to as a \"queen eider\") is a warm brown colour overall, slightly paler on the head and neck. The feathers on her upperparts and flanks are marked with blackish chevrons, while those on her neck and head bear fine black streaks. She has a buffy spot at the base of her bill and a buffy eye ring which extends into a downward curving stripe behind her eye. Her bill is variously described as black or grey, and her legs and feet are greenish grey.Juvenile birds are greyish brown. Late in their first autumn, young males moult into a darker plumage, with white on the breast and rump; it takes them three years to achieve full adult plumage.\n"
     ]
    }
   ],
   "source": [
    "# import module\n",
    "import requests\n",
    "import pandas as pd\n",
    "from bs4 import BeautifulSoup\n",
    "\n",
    "# link for extract html data\n",
    "def getdata(url):\n",
    "    r = requests.get(url)\n",
    "    return r.text\n",
    "\n",
    "htmldata = getdata(\"https://animalia.bio/king-eider\")\n",
    "soup = BeautifulSoup(htmldata, 'html.parser')\n",
    "datas = ''\n",
    "for data in soup.find_all(\"div\", {\"class\": \"s-char-kinds__attr\"}):\n",
    "    print(data.get_text().replace(\"\\n\",\" \").split())\n",
    "print()\n",
    "for data in soup.find_all(\"a\", {\"class\": \"s-char-kinds__name\"}):\n",
    "    print(data.get_text().replace(\"\\n\",\" \").split())\n",
    "print()\n",
    "for data in soup.find_all(\"div\", {\"class\": \"s-appearance-block\"}):\n",
    "#     print(data.get_text())\n",
    "    print(\" \".join(data.get_text().replace(\"Show More\",\"\").replace(\"Show Less\",\"\").split()))"
   ]
  },
  {
   "cell_type": "code",
   "execution_count": null,
   "id": "56c1741d",
   "metadata": {},
   "outputs": [],
   "source": [
    "datas"
   ]
  },
  {
   "cell_type": "code",
   "execution_count": null,
   "id": "88ad21e7",
   "metadata": {},
   "outputs": [],
   "source": []
  }
 ],
 "metadata": {
  "kernelspec": {
   "display_name": "Python 3 (ipykernel)",
   "language": "python",
   "name": "python3"
  },
  "language_info": {
   "codemirror_mode": {
    "name": "ipython",
    "version": 3
   },
   "file_extension": ".py",
   "mimetype": "text/x-python",
   "name": "python",
   "nbconvert_exporter": "python",
   "pygments_lexer": "ipython3",
   "version": "3.8.16"
  }
 },
 "nbformat": 4,
 "nbformat_minor": 5
}

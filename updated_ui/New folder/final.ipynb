{
 "cells": [
  {
   "cell_type": "code",
   "execution_count": 1,
   "id": "b7d90b46",
   "metadata": {},
   "outputs": [],
   "source": [
    "import pandas as pd\n",
    "import seaborn as sns\n",
    "import matplotlib.pyplot as plt\n",
    "import numpy as np\n",
    "import os,cv2"
   ]
  },
  {
   "cell_type": "code",
   "execution_count": 2,
   "id": "8e96c727",
   "metadata": {},
   "outputs": [],
   "source": [
    "directory=\"train/\"\n",
    "classses=os.listdir(directory)"
   ]
  },
  {
   "cell_type": "code",
   "execution_count": 3,
   "id": "24550c33",
   "metadata": {},
   "outputs": [
    {
     "data": {
      "text/plain": [
       "['ABBOTTS BOOBY',\n",
       " 'ABYSSINIAN GROUND HORNBILL',\n",
       " 'AFRICAN PIED HORNBILL',\n",
       " 'AFRICAN PYGMY GOOSE',\n",
       " 'ALEXANDRINE PARAKEET',\n",
       " 'AMERICAN AVOCET',\n",
       " 'AMERICAN BITTERN',\n",
       " 'AMERICAN FLAMINGO',\n",
       " 'AMERICAN PIPIT',\n",
       " 'AMERICAN WIGEON',\n",
       " 'ASHY STORM PETREL',\n",
       " 'ASIAN GREEN BEE EATER',\n",
       " 'AUCKLAND SHAQ',\n",
       " 'AUSTRALASIAN FIGBIRD',\n",
       " 'AZARAS SPINETAIL',\n",
       " 'BALD EAGLE',\n",
       " 'BANDED BROADBILL',\n",
       " 'BAR-TAILED GODWIT',\n",
       " 'CHIPPING SPARROW',\n",
       " 'CROW',\n",
       " 'INDIAN PITTA',\n",
       " 'KING EIDER',\n",
       " 'RUFOUS KINGFISHER',\n",
       " 'SNOWY OWL',\n",
       " 'STEAMER DUCK']"
      ]
     },
     "execution_count": 3,
     "metadata": {},
     "output_type": "execute_result"
    }
   ],
   "source": [
    "classses"
   ]
  },
  {
   "cell_type": "code",
   "execution_count": 19,
   "id": "ec160d69",
   "metadata": {},
   "outputs": [
    {
     "data": {
      "text/plain": [
       "'abbotts-booby'"
      ]
     },
     "execution_count": 19,
     "metadata": {},
     "output_type": "execute_result"
    }
   ],
   "source": [
    "a = \"ABBOTTS BOOBY\".lower().replace(\" \",\"-\")\n",
    "a"
   ]
  },
  {
   "cell_type": "code",
   "execution_count": null,
   "id": "1ae029d8",
   "metadata": {},
   "outputs": [],
   "source": []
  },
  {
   "cell_type": "code",
   "execution_count": 4,
   "id": "422ca332",
   "metadata": {},
   "outputs": [
    {
     "name": "stdout",
     "output_type": "stream",
     "text": [
      "train/ABBOTTS BOOBY\n",
      "train/ABYSSINIAN GROUND HORNBILL\n",
      "train/AFRICAN PIED HORNBILL\n",
      "train/AFRICAN PYGMY GOOSE\n",
      "train/ALEXANDRINE PARAKEET\n",
      "train/AMERICAN AVOCET\n",
      "train/AMERICAN BITTERN\n",
      "train/AMERICAN FLAMINGO\n",
      "train/AMERICAN PIPIT\n",
      "train/AMERICAN WIGEON\n",
      "train/ASHY STORM PETREL\n",
      "train/ASIAN GREEN BEE EATER\n",
      "train/AUCKLAND SHAQ\n",
      "train/AUSTRALASIAN FIGBIRD\n",
      "train/AZARAS SPINETAIL\n",
      "train/BALD EAGLE\n",
      "train/BANDED BROADBILL\n",
      "train/BAR-TAILED GODWIT\n",
      "train/CHIPPING SPARROW\n",
      "train/CROW\n",
      "train/INDIAN PITTA\n",
      "train/KING EIDER\n",
      "train/RUFOUS KINGFISHER\n",
      "train/SNOWY OWL\n",
      "train/STEAMER DUCK\n"
     ]
    }
   ],
   "source": [
    "import os\n",
    "import cv2\n",
    "image_size=224\n",
    "data1=[]#empty list\n",
    "for category in classses:\n",
    "    path = os.path.join(directory, category)\n",
    "    print(path)\n",
    "    label = classses.index(category)\n",
    "    for img in os.listdir(path):\n",
    "        img_path = os.path.join(path, img)\n",
    "#         print(\"img path\")\n",
    "#         print(img_path)\n",
    "        arr = cv2.imread(img_path)#Reading Images\n",
    "        arr = cv2.cvtColor(arr, cv2.COLOR_BGR2RGB)\n",
    "        new_arr = cv2.resize(arr, (image_size, image_size))#Resizing into same shape\n",
    "        data1.append([new_arr, label])"
   ]
  },
  {
   "cell_type": "code",
   "execution_count": 5,
   "id": "ea01903a",
   "metadata": {},
   "outputs": [],
   "source": [
    "import random\n",
    "random.shuffle(data1)"
   ]
  },
  {
   "cell_type": "code",
   "execution_count": 6,
   "id": "887ef5ca",
   "metadata": {},
   "outputs": [
    {
     "data": {
      "text/plain": [
       "4402"
      ]
     },
     "execution_count": 6,
     "metadata": {},
     "output_type": "execute_result"
    }
   ],
   "source": [
    "len(data1)"
   ]
  },
  {
   "cell_type": "code",
   "execution_count": 7,
   "id": "14e417e2",
   "metadata": {},
   "outputs": [],
   "source": [
    "x=[]#independent\n",
    "y=[]#dependent\n",
    "for features,labels in data1:\n",
    "    x.append(features)\n",
    "    y.append(labels)"
   ]
  },
  {
   "cell_type": "code",
   "execution_count": 8,
   "id": "b12589c0",
   "metadata": {},
   "outputs": [],
   "source": [
    "x=np.array(x)\n",
    "y=np.array(y)"
   ]
  },
  {
   "cell_type": "code",
   "execution_count": 9,
   "id": "6a11acec",
   "metadata": {},
   "outputs": [],
   "source": [
    "from sklearn.model_selection import train_test_split\n",
    "X_train,X_test,y_train,y_test=train_test_split(x,y,test_size=0.2)"
   ]
  },
  {
   "cell_type": "code",
   "execution_count": 10,
   "id": "0ef785e4",
   "metadata": {},
   "outputs": [
    {
     "name": "stdout",
     "output_type": "stream",
     "text": [
      "Downloading data from https://storage.googleapis.com/tensorflow/keras-applications/inception_v3/inception_v3_weights_tf_dim_ordering_tf_kernels_notop.h5\n",
      "87916544/87910968 [==============================] - 24s 0us/step\n"
     ]
    }
   ],
   "source": [
    "from tensorflow.keras import applications\n",
    "from tensorflow.keras import layers\n",
    "from tensorflow import keras\n",
    "from tensorflow.keras import optimizers\n",
    "from tensorflow.keras.models import Sequential ,Model, load_model\n",
    "from tensorflow.keras.layers import Dropout, Flatten, Dense ,Dropout\n",
    "\n",
    "from tensorflow.keras.callbacks import ModelCheckpoint, LearningRateScheduler, EarlyStopping, ReduceLROnPlateau, TensorBoard\n",
    "base_model = applications.InceptionV3(weights='imagenet', include_top=False, input_shape=(224,224,3))\n",
    "model = Sequential()\n",
    "model.add(base_model)\n",
    "model.add(Flatten(input_shape=base_model.output_shape[1:]))\n",
    "model.add(Dense(256, activation='relu'))\n",
    "model.add(Dropout(0.2))\n",
    "model.add(Dense(128, activation='relu'))\n",
    "model.add(Dropout(0.2))\n",
    "model.add(Dense(len(classses), activation='softmax'))\n",
    "model = Model(inputs=model.input, outputs=model.output)\n",
    "model.compile(loss='sparse_categorical_crossentropy',optimizer=optimizers.Adam(lr=1e-4),metrics=['accuracy'])"
   ]
  },
  {
   "cell_type": "code",
   "execution_count": 11,
   "id": "97bb086e",
   "metadata": {},
   "outputs": [
    {
     "name": "stdout",
     "output_type": "stream",
     "text": [
      "Epoch 1/7\n",
      " 28/111 [======>.......................] - ETA: 10:56 - loss: 2.7452 - accuracy: 0.2288"
     ]
    },
    {
     "name": "stderr",
     "output_type": "stream",
     "text": [
      "\n",
      "KeyboardInterrupt\n",
      "\n"
     ]
    }
   ],
   "source": [
    "progess = model.fit(x=X_train,y=y_train,epochs=7,validation_data= (X_test, y_test), batch_size=32)"
   ]
  },
  {
   "cell_type": "code",
   "execution_count": null,
   "id": "1fde487a",
   "metadata": {},
   "outputs": [],
   "source": [
    "plt.plot(progess.history['accuracy'])\n",
    "plt.plot(progess.history['val_accuracy'])\n",
    "plt.title('model accuracy')\n",
    "plt.ylabel('accuracy')\n",
    "plt.xlabel('epoch')\n",
    "plt.legend(['train', 'test'], loc='upper left')\n",
    "plt.show()\n",
    "# summarize history for loss\n",
    "plt.plot(progess.history['loss'])\n",
    "plt.plot(progess.history['val_loss'])\n",
    "plt.title('model loss')\n",
    "plt.ylabel('loss')\n",
    "plt.xlabel('epoch')\n",
    "plt.legend(['train', 'test'], loc='upper left')\n",
    "plt.show()"
   ]
  },
  {
   "cell_type": "code",
   "execution_count": null,
   "id": "669929a6",
   "metadata": {},
   "outputs": [],
   "source": [
    "from sklearn.metrics import classification_report, confusion_matrix\n",
    "y_pred = model.predict(X_test)"
   ]
  },
  {
   "cell_type": "code",
   "execution_count": null,
   "id": "4442878f",
   "metadata": {},
   "outputs": [],
   "source": [
    "y_pred_new=[]\n",
    "for i in y_pred:\n",
    "    #print(i)\n",
    "    #break\n",
    "    y=np.argmax(i)\n",
    "    #break\n",
    "    #print(y)\n",
    "    y_pred_new.append(y)\n",
    "    #break"
   ]
  },
  {
   "cell_type": "code",
   "execution_count": null,
   "id": "9fd95f86",
   "metadata": {},
   "outputs": [],
   "source": [
    "from sklearn.metrics import classification_report, confusion_matrix\n",
    "print(classification_report(y_test, y_pred_new, target_names=classses))"
   ]
  },
  {
   "cell_type": "code",
   "execution_count": null,
   "id": "83106b7e",
   "metadata": {},
   "outputs": [],
   "source": [
    "from sklearn import metrics\n",
    "cm=metrics.confusion_matrix(y_test,y_pred_new)\n",
    "import pandas as pd\n",
    "df_cm=pd.DataFrame(cm)\n",
    "import seaborn as sns\n",
    "plt.figure(figsize = (10,3))\n",
    "sns.heatmap(df_cm, annot=True)"
   ]
  },
  {
   "cell_type": "markdown",
   "id": "0de98898",
   "metadata": {},
   "source": [
    "# Resnet-50"
   ]
  },
  {
   "cell_type": "code",
   "execution_count": null,
   "id": "5b09aae2",
   "metadata": {},
   "outputs": [],
   "source": [
    "from tensorflow.keras import applications\n",
    "from tensorflow.keras import layers\n",
    "from tensorflow import keras\n",
    "from tensorflow.keras import optimizers\n",
    "from tensorflow.keras.models import Sequential ,Model, load_model\n",
    "from tensorflow.keras.layers import Dropout, Flatten, Dense ,Dropout\n",
    "\n",
    "from tensorflow.keras.callbacks import ModelCheckpoint, LearningRateScheduler, EarlyStopping, ReduceLROnPlateau, TensorBoard\n",
    "base_model = applications.ResNet50(weights='imagenet', include_top=False, input_shape=(224,224,3))\n",
    "res_model = Sequential()\n",
    "res_model.add(base_model)\n",
    "res_model.add(Flatten(input_shape=base_model.output_shape[1:]))\n",
    "res_model.add(Dense(256, activation='relu'))\n",
    "res_model.add(Dropout(0.2))\n",
    "res_model.add(Dense(128, activation='relu'))\n",
    "res_model.add(Dropout(0.2))\n",
    "res_model.add(Dense(len(classses), activation='softmax'))\n",
    "res_model = Model(inputs=res_model.input, outputs=res_model.output)\n",
    "res_model.compile(loss='sparse_categorical_crossentropy',optimizer=optimizers.Adam(lr=1e-4),metrics=['accuracy'])"
   ]
  },
  {
   "cell_type": "code",
   "execution_count": null,
   "id": "fa2e1ea6",
   "metadata": {},
   "outputs": [],
   "source": [
    "progess1 = res_model.fit(x=X_train,y=y_train,epochs=7,validation_data= (X_test, y_test), batch_size=128)"
   ]
  },
  {
   "cell_type": "code",
   "execution_count": null,
   "id": "282e1b4b",
   "metadata": {},
   "outputs": [],
   "source": [
    "plt.plot(progess1.history['accuracy'])\n",
    "plt.plot(progess1.history['val_accuracy'])\n",
    "plt.title('model accuracy')\n",
    "plt.ylabel('accuracy')\n",
    "plt.xlabel('epoch')\n",
    "plt.legend(['train', 'test'], loc='upper left')\n",
    "plt.show()\n",
    "# summarize history for loss\n",
    "plt.plot(progess1.history['loss'])\n",
    "plt.plot(progess1.history['val_loss'])\n",
    "plt.title('model loss')\n",
    "plt.ylabel('loss')\n",
    "plt.xlabel('epoch')\n",
    "plt.legend(['train', 'test'], loc='upper left')\n",
    "plt.show()"
   ]
  },
  {
   "cell_type": "code",
   "execution_count": null,
   "id": "e41a8d15",
   "metadata": {},
   "outputs": [],
   "source": [
    "from sklearn.metrics import classification_report, confusion_matrix\n",
    "y_pred1 = res_model.predict(X_test)"
   ]
  },
  {
   "cell_type": "code",
   "execution_count": null,
   "id": "15e2eefd",
   "metadata": {},
   "outputs": [],
   "source": [
    "y_pred_new1=[]\n",
    "for i in y_pred1:\n",
    "    #print(i)\n",
    "    #break\n",
    "    y=np.argmax(i)\n",
    "    #break\n",
    "    #print(y)\n",
    "    y_pred_new1.append(y)\n",
    "    #break"
   ]
  },
  {
   "cell_type": "code",
   "execution_count": null,
   "id": "4ce45430",
   "metadata": {},
   "outputs": [],
   "source": [
    "from sklearn.metrics import classification_report, confusion_matrix\n",
    "print(classification_report(y_test, y_pred_new1, target_names=classses))"
   ]
  },
  {
   "cell_type": "code",
   "execution_count": null,
   "id": "5a97d42c",
   "metadata": {},
   "outputs": [],
   "source": [
    "from sklearn import metrics\n",
    "cm=metrics.confusion_matrix(y_test,y_pred_new1)\n",
    "import pandas as pd\n",
    "df_cm=pd.DataFrame(cm)\n",
    "import seaborn as sns\n",
    "plt.figure(figsize = (10,3))\n",
    "sns.heatmap(df_cm, annot=True)"
   ]
  },
  {
   "cell_type": "code",
   "execution_count": null,
   "id": "65bbf796",
   "metadata": {},
   "outputs": [],
   "source": []
  },
  {
   "cell_type": "code",
   "execution_count": null,
   "id": "47957a9b",
   "metadata": {},
   "outputs": [],
   "source": [
    "model.save(\"inception_classifier.hp5\")\n",
    "res_model.save(\"resnet_classifier.hp5\")"
   ]
  },
  {
   "cell_type": "code",
   "execution_count": null,
   "id": "148e048a",
   "metadata": {},
   "outputs": [],
   "source": []
  },
  {
   "cell_type": "code",
   "execution_count": null,
   "id": "9f91468e",
   "metadata": {},
   "outputs": [],
   "source": [
    "from tensorflow.keras import applications\n",
    "from tensorflow.keras import layers\n",
    "from tensorflow import keras\n",
    "from tensorflow.keras import optimizers\n",
    "from tensorflow.keras.models import Sequential ,Model, load_model\n",
    "from tensorflow.keras.layers import Dropout, Flatten, Dense ,Dropout\n",
    "\n",
    "from tensorflow.keras.callbacks import ModelCheckpoint, LearningRateScheduler, EarlyStopping, ReduceLROnPlateau, TensorBoard\n",
    "base_model = applications.EfficientB7(weights='imagenet', include_top=False, input_shape=(224,224,3))\n",
    "effcient_model = Sequential()\n",
    "effcient_model.add(base_model)\n",
    "effcient_model.add(Flatten(input_shape=base_model.output_shape[1:]))\n",
    "effcient_model.add(Dense(256, activation='relu'))\n",
    "effcient_model.add(Dropout(0.2))\n",
    "effcient_model.add(Dense(128, activation='relu'))\n",
    "effcient_model.add(Dropout(0.2))\n",
    "effcient_model.add(Dense(len(classses), activation='softmax'))\n",
    "effcient_model = Model(inputs=effcient_model.input, outputs=effcient_model.output)\n",
    "effcient_model.compile(loss='sparse_categorical_crossentropy',optimizer=optimizers.Adam(lr=1e-4),metrics=['accuracy'])"
   ]
  },
  {
   "cell_type": "code",
   "execution_count": null,
   "id": "972042bf",
   "metadata": {},
   "outputs": [],
   "source": [
    "progess3 = effcient_model.fit(x=X_train,y=y_train,epochs=7,validation_data= (X_test, y_test), batch_size=128)"
   ]
  },
  {
   "cell_type": "code",
   "execution_count": null,
   "id": "74fb6239",
   "metadata": {},
   "outputs": [],
   "source": [
    "plt.plot(progess3.history['accuracy'])\n",
    "plt.plot(progess3.history['val_accuracy'])\n",
    "plt.title('model accuracy')\n",
    "plt.ylabel('accuracy')\n",
    "plt.xlabel('epoch')\n",
    "plt.legend(['train', 'test'], loc='upper left')\n",
    "plt.show()\n",
    "# summarize history for loss\n",
    "plt.plot(progess1.history['loss'])\n",
    "plt.plot(progess1.history['val_loss'])\n",
    "plt.title('model loss')\n",
    "plt.ylabel('loss')\n",
    "plt.xlabel('epoch')\n",
    "plt.legend(['train', 'test'], loc='upper left')\n",
    "plt.show()"
   ]
  },
  {
   "cell_type": "code",
   "execution_count": null,
   "id": "71855bc7",
   "metadata": {},
   "outputs": [],
   "source": [
    "from sklearn.metrics import classification_report, confusion_matrix\n",
    "y_pred1 = effcient_model.predict(X_test)"
   ]
  },
  {
   "cell_type": "code",
   "execution_count": null,
   "id": "d0d85135",
   "metadata": {},
   "outputs": [],
   "source": [
    "y_pred_new1=[]\n",
    "for i in y_pred1:\n",
    "    #print(i)\n",
    "    #break\n",
    "    y=np.argmax(i)\n",
    "    #break\n",
    "    #print(y)\n",
    "    y_pred_new1.append(y)\n",
    "    #break"
   ]
  },
  {
   "cell_type": "code",
   "execution_count": null,
   "id": "b2335cd9",
   "metadata": {},
   "outputs": [],
   "source": [
    "from sklearn.metrics import classification_report, confusion_matrix\n",
    "print(classification_report(y_test, y_pred_new1, target_names=classses))"
   ]
  },
  {
   "cell_type": "code",
   "execution_count": null,
   "id": "d069909b",
   "metadata": {},
   "outputs": [],
   "source": [
    "from sklearn import metrics\n",
    "cm=metrics.confusion_matrix(y_test,y_pred_new1)\n",
    "import pandas as pd\n",
    "df_cm=pd.DataFrame(cm)\n",
    "import seaborn as sns\n",
    "plt.figure(figsize = (10,3))\n",
    "sns.heatmap(df_cm, annot=True)"
   ]
  },
  {
   "cell_type": "code",
   "execution_count": null,
   "id": "9368f481",
   "metadata": {},
   "outputs": [],
   "source": []
  },
  {
   "cell_type": "code",
   "execution_count": null,
   "id": "0247a91e",
   "metadata": {},
   "outputs": [],
   "source": []
  },
  {
   "cell_type": "code",
   "execution_count": null,
   "id": "6794c8d5",
   "metadata": {},
   "outputs": [],
   "source": []
  },
  {
   "cell_type": "code",
   "execution_count": null,
   "id": "292fef90",
   "metadata": {},
   "outputs": [],
   "source": []
  },
  {
   "cell_type": "code",
   "execution_count": null,
   "id": "3db482ba",
   "metadata": {},
   "outputs": [],
   "source": []
  },
  {
   "cell_type": "code",
   "execution_count": null,
   "id": "98e597f7",
   "metadata": {},
   "outputs": [],
   "source": []
  },
  {
   "cell_type": "code",
   "execution_count": null,
   "id": "80ade812",
   "metadata": {},
   "outputs": [],
   "source": []
  },
  {
   "cell_type": "code",
   "execution_count": null,
   "id": "3083e58e",
   "metadata": {},
   "outputs": [],
   "source": []
  },
  {
   "cell_type": "code",
   "execution_count": null,
   "id": "e7e15981",
   "metadata": {},
   "outputs": [],
   "source": []
  },
  {
   "cell_type": "code",
   "execution_count": null,
   "id": "e9c6e340",
   "metadata": {},
   "outputs": [],
   "source": []
  },
  {
   "cell_type": "code",
   "execution_count": null,
   "id": "198506b7",
   "metadata": {},
   "outputs": [],
   "source": []
  },
  {
   "cell_type": "code",
   "execution_count": null,
   "id": "342dc416",
   "metadata": {},
   "outputs": [],
   "source": []
  },
  {
   "cell_type": "code",
   "execution_count": null,
   "id": "db316b5b",
   "metadata": {},
   "outputs": [],
   "source": []
  },
  {
   "cell_type": "code",
   "execution_count": null,
   "id": "6e707de1",
   "metadata": {},
   "outputs": [],
   "source": []
  },
  {
   "cell_type": "code",
   "execution_count": null,
   "id": "a34d6d1d",
   "metadata": {},
   "outputs": [],
   "source": []
  },
  {
   "cell_type": "code",
   "execution_count": null,
   "id": "b4d0e06d",
   "metadata": {},
   "outputs": [],
   "source": []
  },
  {
   "cell_type": "code",
   "execution_count": null,
   "id": "d003d32f",
   "metadata": {},
   "outputs": [],
   "source": []
  },
  {
   "cell_type": "code",
   "execution_count": null,
   "id": "4ce1c195",
   "metadata": {},
   "outputs": [],
   "source": []
  },
  {
   "cell_type": "code",
   "execution_count": null,
   "id": "e64ba59c",
   "metadata": {},
   "outputs": [],
   "source": []
  }
 ],
 "metadata": {
  "kernelspec": {
   "display_name": "Python 3 (ipykernel)",
   "language": "python",
   "name": "python3"
  },
  "language_info": {
   "codemirror_mode": {
    "name": "ipython",
    "version": 3
   },
   "file_extension": ".py",
   "mimetype": "text/x-python",
   "name": "python",
   "nbconvert_exporter": "python",
   "pygments_lexer": "ipython3",
   "version": "3.8.16"
  }
 },
 "nbformat": 4,
 "nbformat_minor": 5
}

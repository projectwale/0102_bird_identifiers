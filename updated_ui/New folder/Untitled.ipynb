{
 "cells": [
  {
   "cell_type": "code",
   "execution_count": 1,
   "id": "bfb3c5c9",
   "metadata": {},
   "outputs": [],
   "source": [
    "# !pip install urllib2"
   ]
  },
  {
   "cell_type": "code",
   "execution_count": 41,
   "id": "62583827",
   "metadata": {
    "scrolled": true
   },
   "outputs": [],
   "source": [
    "# import module\n",
    "import requests\n",
    "import pandas as pd\n",
    "from bs4 import BeautifulSoup\n",
    "\n",
    "# link for extract html data\n",
    "def getdata(url):\n",
    "    r = requests.get(url)\n",
    "    return r.text\n",
    "\n",
    "htmldata = getdata(\"https://animalia.bio/king-eider\")\n",
    "soup = BeautifulSoup(htmldata, 'html.parser')\n",
    "datas = []\n",
    "for data in soup.find_all(\"div\", {\"class\": \"s-char-kinds__attr\"}):\n",
    "#     print(data.get_text().replace(\"\\n\",\" \"))\n",
    "    datas.append(data.get_text().replace(\"\\n\",\"\"))\n",
    "# print()\n",
    "# for data in soup.find_all(\"a\", {\"class\": \"s-char-kinds__name\"}):\n",
    "#     print(data.get_text().replace(\"\\n\",\" \").split())\n",
    "# print()\n",
    "# for data in soup.find_all(\"div\", {\"class\": \"s-appearance-block\"}):\n",
    "# #     print(data.get_text())\n",
    "#     print(\" \".join(data.get_text().replace(\"Show More\",\"\").replace(\"Show Less\",\"\").split()))"
   ]
  },
  {
   "cell_type": "code",
   "execution_count": 42,
   "id": "ca6b9ce3",
   "metadata": {},
   "outputs": [
    {
     "data": {
      "text/plain": [
       "['Kingdom', 'Phylum', 'Class', 'Order', 'Family', 'Genus', 'SPECIES']"
      ]
     },
     "execution_count": 42,
     "metadata": {},
     "output_type": "execute_result"
    }
   ],
   "source": [
    "datas"
   ]
  },
  {
   "cell_type": "code",
   "execution_count": null,
   "id": "1ae6864d",
   "metadata": {},
   "outputs": [],
   "source": []
  }
 ],
 "metadata": {
  "kernelspec": {
   "display_name": "Python 3 (ipykernel)",
   "language": "python",
   "name": "python3"
  },
  "language_info": {
   "codemirror_mode": {
    "name": "ipython",
    "version": 3
   },
   "file_extension": ".py",
   "mimetype": "text/x-python",
   "name": "python",
   "nbconvert_exporter": "python",
   "pygments_lexer": "ipython3",
   "version": "3.8.16"
  }
 },
 "nbformat": 4,
 "nbformat_minor": 5
}
